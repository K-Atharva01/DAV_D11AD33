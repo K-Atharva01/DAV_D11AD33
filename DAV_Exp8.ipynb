{
<<<<<<< HEAD
 "cells": [
  {
   "cell_type": "markdown",
   "metadata": {
    "colab_type": "text",
    "id": "view-in-github"
   },
   "source": [
    "<a href=\"https://colab.research.google.com/github/Nikhil11072003/DAV_Experiments/blob/main/DAV_Exp_8.ipynb\" target=\"_parent\"><img src=\"https://colab.research.google.com/assets/colab-badge.svg\" alt=\"Open In Colab\"/></a>"
   ]
=======
  "cells": [
    {
      "cell_type": "markdown",
      "metadata": {
        "colab_type": "text",
        "id": "view-in-github"
      },
      "source": [
        "<a href=\"https://colab.research.google.com/github/ni190304/DAV_44/blob/master/DAV_Exp8.ipynb\" target=\"_parent\"><img src=\"https://colab.research.google.com/assets/colab-badge.svg\" alt=\"Open In Colab\"/></a>"
      ]
    },
    {
      "cell_type": "code",
      "execution_count": 3,
      "metadata": {
        "colab": {
          "base_uri": "https://localhost:8080/",
          "height": 163
        },
        "id": "LhJk3qB-mQQk",
        "outputId": "66265237-66de-4f75-94cb-8328b546e170"
      },
      "outputs": [
        {
          "data": {
            "text/html": [
              "<!DOCTYPE html>\n",
              "<html>\n",
              "<head>\n",
              "  <script src=\"https://d3js.org/d3.v4.js\"></script>\n",
              "  <title>D3 D11AD 33</title>\n",
              "</head>\n",
              "<body>\n",
              "  <h2>D3.js Example</h2>\n",
              "  <p id=\"d3_p\">Select elements in D3</p>\n",
              "  <div class=\"d3_fruit\"></div>\n",
              "  <div class=\"d3_fruit\"></div>\n",
              "  <div class=\"d3_fruit\"></div>\n",
              "\n",
              "\n",
              "  <button onclick=\"addParagraph()\">Add Paragraph</button>\n",
              "  <button onclick=\"addBeforeParagraph()\">Add before existing Paragraph</button>\n",
              "  <button onclick=\"removeParagraph()\">Remove Paragraph</button>\n",
              "\n",
              "\n",
              "  <script>\n",
              "\n",
              " //Select elements in D3\n",
              "  d3.select(\"#d3_p\").style(\"color\", \"red\");\n",
              "\n",
              "\n",
              "    let fruits = ['Banana', 'Watermelon', 'Strawberries'];\n",
              "\n",
              "\n",
              "    d3.selectAll(\".d3_fruit\")\n",
              "      .data(fruits)\n",
              "      .text((d) => d)\n",
              "      .style(\"background-color\", (d, i) => i % 2 === 0 ? \"lightyellow\" : \"lightgreen\");\n",
              "\n",
              "    // Modify elements in D3\n",
              "    function addParagraph () {\n",
              "        d3.select(\".d3_fruit\").append(\"p\").text(\"I am a new paragraph!\");\n",
              "    }\n",
              "\n",
              "\n",
              "    function addBeforeParagraph () {\n",
              "        d3.select(\".d3_fruit\").insert(\"p\", \":first-child\").text(\"I am inserted before the existing paragraph.\");\n",
              "    }\n",
              "\n",
              "\n",
              "    function removeParagraph() {\n",
              "    d3.select(\".d3_fruit p\").remove();\n",
              "  }\n",
              "\n",
              "\n",
              "  const data = d3.csv(\"/Data.csv\");\n",
              "  console.log(data)\n",
              "\n",
              "\n",
              "  </script>\n",
              "</body>\n",
              "</html>\n"
            ],
            "text/plain": [
              "<IPython.core.display.HTML object>"
            ]
          },
          "metadata": {},
          "output_type": "display_data"
        }
      ],
      "source": [
        "%%html\n",
        "<!DOCTYPE html>\n",
        "<html>\n",
        "<head>\n",
        "  <script src=\"https://d3js.org/d3.v4.js\"></script>\n",
        "  <title>D3 D11AD 33</title>\n",
        "</head>\n",
        "<body>\n",
        "  <h2>D3.js Example</h2>\n",
        "  <p id=\"d3_p\">Select elements in D3</p>\n",
        "  <div class=\"d3_fruit\"></div>\n",
        "  <div class=\"d3_fruit\"></div>\n",
        "  <div class=\"d3_fruit\"></div>\n",
        "\n",
        "\n",
        "  <button onclick=\"addParagraph()\">Add Paragraph</button>\n",
        "  <button onclick=\"addBeforeParagraph()\">Add before existing Paragraph</button>\n",
        "  <button onclick=\"removeParagraph()\">Remove Paragraph</button>\n",
        "\n",
        "\n",
        "  <script>\n",
        "\n",
        " //Select elements in D3\n",
        "  d3.select(\"#d3_p\").style(\"color\", \"red\");\n",
        "\n",
        "\n",
        "    let fruits = ['Banana', 'Watermelon', 'Strawberries'];\n",
        "\n",
        "\n",
        "    d3.selectAll(\".d3_fruit\")\n",
        "      .data(fruits)\n",
        "      .text((d) => d)\n",
        "      .style(\"background-color\", (d, i) => i % 2 === 0 ? \"lightyellow\" : \"lightgreen\");\n",
        "\n",
        "    // Modify elements in D3\n",
        "    function addParagraph () {\n",
        "        d3.select(\".d3_fruit\").append(\"p\").text(\"I am a new paragraph!\");\n",
        "    }\n",
        "\n",
        "\n",
        "    function addBeforeParagraph () {\n",
        "        d3.select(\".d3_fruit\").insert(\"p\", \":first-child\").text(\"I am inserted before the existing paragraph.\");\n",
        "    }\n",
        "\n",
        "\n",
        "    function removeParagraph() {\n",
        "    d3.select(\".d3_fruit p\").remove();\n",
        "  }\n",
        "\n",
        "\n",
        "  const data = d3.csv(\"/Data.csv\");\n",
        "  console.log(data)\n",
        "\n",
        "\n",
        "  </script>\n",
        "</body>\n",
        "</html>\n"
      ]
    },
    {
      "cell_type": "code",
      "execution_count": 5,
      "metadata": {
        "colab": {
          "base_uri": "https://localhost:8080/",
          "height": 369
        },
        "id": "nNRcr9i7mrem",
        "outputId": "278e0abc-c8c1-4258-daf4-026ac9e2ff3b"
      },
      "outputs": [
        {
          "data": {
            "text/html": [
              "<!DOCTYPE html>\n",
              "<html lang=\"en\">\n",
              "<head>\n",
              "  <meta charset=\"UTF-8\">\n",
              "  <meta name=\"viewport\" content=\"width=device-width, initial-scale=1.0\">\n",
              "  <title>D3.js Pie Chart</title>\n",
              "  <script src=\"https://d3js.org/d3.v5.min.js\"></script>\n",
              "</head>\n",
              "<body>\n",
              "  <h2>Data Loading in D3 - Pie Chart</h2>\n",
              "  <div id=\"chart-container\"></div>\n",
              "\n",
              "  <script>\n",
              "    const data = [\n",
              "      { category: \"A\", value: 100 },\n",
              "      { category: \"B\", value: 225 },\n",
              "      { category: \"C\", value: 150 },\n",
              "    ];\n",
              "\n",
              "    const svgWidth = 400;\n",
              "    const svgHeight = 300;\n",
              "    const radius = Math.min(svgWidth, svgHeight) / 2;\n",
              "\n",
              "    const svg = d3.select(\"#chart-container\")\n",
              "      .append(\"svg\")\n",
              "      .attr(\"width\", svgWidth)\n",
              "      .attr(\"height\", svgHeight);\n",
              "\n",
              "    const pie = d3.pie()\n",
              "      .value(d => d.value);\n",
              "\n",
              "    const arc = d3.arc()\n",
              "      .innerRadius(0)\n",
              "      .outerRadius(radius);\n",
              "\n",
              "    const arcs = svg.selectAll(\"arc\")\n",
              "      .data(pie(data))\n",
              "      .enter()\n",
              "      .append(\"g\")\n",
              "      .attr(\"class\", \"arc\")\n",
              "      .attr(\"transform\", `translate(${radius},${radius})`);\n",
              "\n",
              "    arcs.append(\"path\")\n",
              "      .attr(\"fill\", (d, i) => d3.schemeCategory10[i])\n",
              "      .attr(\"d\", arc);\n",
              "\n",
              "    arcs.append(\"text\")\n",
              "      .attr(\"transform\", d => `translate(${arc.centroid(d)})`)\n",
              "      .attr(\"text-anchor\", \"middle\")\n",
              "      .text(d => d.data.category);\n",
              "  </script>\n",
              "</body>\n",
              "</html>\n"
            ],
            "text/plain": [
              "<IPython.core.display.HTML object>"
            ]
          },
          "metadata": {},
          "output_type": "display_data"
        }
      ],
      "source": [
        "%%html\n",
        "<!DOCTYPE html>\n",
        "<html lang=\"en\">\n",
        "<head>\n",
        "  <meta charset=\"UTF-8\">\n",
        "  <meta name=\"viewport\" content=\"width=device-width, initial-scale=1.0\">\n",
        "  <title>D3.js Pie Chart</title>\n",
        "  <script src=\"https://d3js.org/d3.v5.min.js\"></script>\n",
        "</head>\n",
        "<body>\n",
        "  <h2>Data Loading in D3 - Pie Chart</h2>\n",
        "  <div id=\"chart-container\"></div>\n",
        "\n",
        "  <script>\n",
        "    const data = [\n",
        "      { category: \"A\", value: 100 },\n",
        "      { category: \"B\", value: 225 },\n",
        "      { category: \"C\", value: 150 },\n",
        "    ];\n",
        "\n",
        "    const svgWidth = 400;\n",
        "    const svgHeight = 300;\n",
        "    const radius = Math.min(svgWidth, svgHeight) / 2;\n",
        "\n",
        "    const svg = d3.select(\"#chart-container\")\n",
        "      .append(\"svg\")\n",
        "      .attr(\"width\", svgWidth)\n",
        "      .attr(\"height\", svgHeight);\n",
        "\n",
        "    const pie = d3.pie()\n",
        "      .value(d => d.value);\n",
        "\n",
        "    const arc = d3.arc()\n",
        "      .innerRadius(0)\n",
        "      .outerRadius(radius);\n",
        "\n",
        "    const arcs = svg.selectAll(\"arc\")\n",
        "      .data(pie(data))\n",
        "      .enter()\n",
        "      .append(\"g\")\n",
        "      .attr(\"class\", \"arc\")\n",
        "      .attr(\"transform\", `translate(${radius},${radius})`);\n",
        "\n",
        "    arcs.append(\"path\")\n",
        "      .attr(\"fill\", (d, i) => d3.schemeCategory10[i])\n",
        "      .attr(\"d\", arc);\n",
        "\n",
        "    arcs.append(\"text\")\n",
        "      .attr(\"transform\", d => `translate(${arc.centroid(d)})`)\n",
        "      .attr(\"text-anchor\", \"middle\")\n",
        "      .text(d => d.data.category);\n",
        "  </script>\n",
        "</body>\n",
        "</html>"
      ]
    },
    {
      "cell_type": "code",
      "execution_count": null,
      "metadata": {
        "id": "HKRV9KY6S-TI"
      },
      "outputs": [],
      "source": []
    }
  ],
  "metadata": {
    "colab": {
      "include_colab_link": true,
      "provenance": []
    },
    "kernelspec": {
      "display_name": "Python 3",
      "name": "python3"
    },
    "language_info": {
      "name": "python"
    }
>>>>>>> 2118aeec9c5696b2f357281b0eb3d48b0ee1f387
  },
  {
   "cell_type": "code",
   "execution_count": 4,
   "metadata": {
    "colab": {
     "base_uri": "https://localhost:8080/",
     "height": 34
    },
    "id": "nR3HG1LdPcxd",
    "outputId": "171bf031-9f21-4736-e37e-694d32d62915"
   },
   "outputs": [
    {
     "data": {
      "text/html": [
       "<!DOCTYPE html>\n",
       "<html>\n",
       "   <head>\n",
       "      <script type = \"text/javascript\" src = \"https://d3js.org/d3.v4.min.js\"></script>\n",
       "   </head>\n",
       "\n",
       "   <body>\n",
       "      <div>\n",
       "        Atharva Khanvilkar\n",
       "      </div>\n",
       "\n",
       "      <script>\n",
       "         d3.select(\"div\").text();\n",
       "      </script>\n",
       "   </body>\n",
       "</html>\n"
      ],
      "text/plain": [
       "<IPython.core.display.HTML object>"
      ]
     },
     "metadata": {},
     "output_type": "display_data"
    }
   ],
   "source": [
    "%%html\n",
    "<!DOCTYPE html>\n",
    "<html>\n",
    "   <head>\n",
    "      <script type = \"text/javascript\" src = \"https://d3js.org/d3.v4.min.js\"></script>\n",
    "   </head>\n",
    "\n",
    "   <body>\n",
    "      <div>\n",
    "        Atharva Khanvilkar\n",
    "      </div>\n",
    "\n",
    "      <script>\n",
    "         d3.select(\"div\").text();\n",
    "      </script>\n",
    "   </body>\n",
    "</html>"
   ]
  },
  {
   "cell_type": "markdown",
   "metadata": {
    "id": "5UpFphKqQzSx"
   },
   "source": [
    "Here we are selecting div using select()commamnd of D3.js"
   ]
  },
  {
   "cell_type": "code",
   "execution_count": 5,
   "metadata": {
    "colab": {
     "base_uri": "https://localhost:8080/",
     "height": 34
    },
    "id": "TRbH8v6YP669",
    "outputId": "ac9566f8-c576-4e6b-b8d6-759182fa2fa0"
   },
   "outputs": [
    {
     "data": {
      "text/html": [
       "<!DOCTYPE html>\n",
       "<html>\n",
       "   <head>\n",
       "      <script type = \"text/javascript\" src = \"https://d3js.org/d3.v4.min.js\"></script>\n",
       "   </head>\n",
       "\n",
       "   <body>\n",
       "      <div class = \"myclass\">\n",
       "          Atharva Khanvilkar\n",
       "      </div>\n",
       "\n",
       "      <script>\n",
       "         ad3.select(\".myclass\").text();\n",
       "      </script>\n",
       "   </body>\n",
       "</html>\n"
      ],
      "text/plain": [
       "<IPython.core.display.HTML object>"
      ]
     },
     "metadata": {},
     "output_type": "display_data"
    }
   ],
   "source": [
    "%%html\n",
    "<!DOCTYPE html>\n",
    "<html>\n",
    "   <head>\n",
    "      <script type = \"text/javascript\" src = \"https://d3js.org/d3.v4.min.js\"></script>\n",
    "   </head>\n",
    "\n",
    "   <body>\n",
    "      <div class = \"myclass\">\n",
    "          Atharva Khanvilkar\n",
    "      </div>\n",
    "\n",
    "      <script>\n",
    "         ad3.select(\".myclass\").text();\n",
    "      </script>\n",
    "   </body>\n",
    "</html>"
   ]
  },
  {
   "cell_type": "markdown",
   "metadata": {
    "id": "3L1fwombRQ37"
   },
   "source": [
    "Here we are selecting div based on class name  using select() command of D3.js"
   ]
  },
  {
   "cell_type": "code",
   "execution_count": 6,
   "metadata": {
    "colab": {
     "base_uri": "https://localhost:8080/",
     "height": 34
    },
    "id": "rlZgDATTRlRK",
    "outputId": "042e743b-f2a2-492b-8ba9-6b5107ad90fa"
   },
   "outputs": [
    {
     "data": {
      "text/html": [
       "<!DOCTYPE html>\n",
       "<html>\n",
       "   <head>\n",
       "      <script type = \"text/javascript\" src = \"https://d3js.org/d3.v4.min.js\"></script>\n",
       "   </head>\n",
       "\n",
       "   <body>\n",
       "      <div id = \"hello\">\n",
       "         Atharva Khanvilkar\n",
       "      </div>\n",
       "\n",
       "      <script>\n",
       "         d3.select(\"#hello\").text();\n",
       "      </script>\n",
       "   </body>\n",
       "</html>\n"
      ],
      "text/plain": [
       "<IPython.core.display.HTML object>"
      ]
     },
     "metadata": {},
     "output_type": "display_data"
    }
   ],
   "source": [
    "%%html\n",
    "<!DOCTYPE html>\n",
    "<html>\n",
    "   <head>\n",
    "      <script type = \"text/javascript\" src = \"https://d3js.org/d3.v4.min.js\"></script>\n",
    "   </head>\n",
    "\n",
    "   <body>\n",
    "      <div id = \"hello\">\n",
    "         Atharva Khanvilkar\n",
    "      </div>\n",
    "\n",
    "      <script>\n",
    "         d3.select(\"#hello\").text();\n",
    "      </script>\n",
    "   </body>\n",
    "</html>"
   ]
  },
  {
   "cell_type": "markdown",
   "metadata": {
    "id": "1c1-BFG6R0Zh"
   },
   "source": [
    "Here we are selecting div based on id using select() command of D3.js"
   ]
  },
  {
   "cell_type": "markdown",
   "metadata": {
    "id": "asGdTa_QTZhU"
   },
   "source": [
    "**The append() Method**"
   ]
  },
  {
   "cell_type": "code",
   "execution_count": 7,
   "metadata": {
    "colab": {
     "base_uri": "https://localhost:8080/",
     "height": 34
    },
    "id": "ZsfDsSHCR7XQ",
    "outputId": "f7d0b9b5-d2f0-454c-b67a-4ae48d23aa3e"
   },
   "outputs": [
    {
     "data": {
      "text/html": [
       "<!DOCTYPE html>\n",
       "<html>\n",
       "   <head>\n",
       "      <script type = \"text/javascript\" src = \"https://d3js.org/d3.v4.min.js\"></script>\n",
       "   </head>\n",
       "\n",
       "   <body>\n",
       "      <div class = \"myclass\">\n",
       "         Hello World!\n",
       "      </div>\n",
       "\n",
       "      <script>\n",
       "         d3.select(\"div.myclass\").append(\"span\");\n",
       "      </script>\n",
       "   </body>\n",
       "</html>\n"
      ],
      "text/plain": [
       "<IPython.core.display.HTML object>"
      ]
     },
     "metadata": {},
     "output_type": "display_data"
    }
   ],
   "source": [
    "%%html\n",
    "<!DOCTYPE html>\n",
    "<html>\n",
    "   <head>\n",
    "      <script type = \"text/javascript\" src = \"https://d3js.org/d3.v4.min.js\"></script>\n",
    "   </head>\n",
    "\n",
    "   <body>\n",
    "      <div class = \"myclass\">\n",
    "         Hello World!\n",
    "      </div>\n",
    "\n",
    "      <script>\n",
    "         d3.select(\"div.myclass\").append(\"span\");\n",
    "      </script>\n",
    "   </body>\n",
    "</html>"
   ]
  },
  {
   "cell_type": "markdown",
   "metadata": {
    "id": "zoMRR5TfShuj"
   },
   "source": [
    "Here, the append() method adds a new tag span inside the div tag"
   ]
  },
  {
   "cell_type": "markdown",
   "metadata": {
    "id": "yXHAlK3aTgDj"
   },
   "source": [
    "**The text() method**"
   ]
  },
  {
   "cell_type": "code",
   "execution_count": 8,
   "metadata": {
    "colab": {
     "base_uri": "https://localhost:8080/",
     "height": 34
    },
    "id": "fSIJazu4SxCc",
    "outputId": "87f8cef0-633d-482a-b38e-1500367c6b6c"
   },
   "outputs": [
    {
     "data": {
      "text/html": [
       "<!DOCTYPE html>\n",
       "<html>\n",
       "   <head>\n",
       "      <script type = \"text/javascript\" src = \"https://d3js.org/d3.v4.min.js\"></script>\n",
       "   </head>\n",
       "\n",
       "   <body>\n",
       "      <div class = \"myclass\">\n",
       "         Hello World!\n",
       "      </div>\n",
       "\n",
       "      <script>\n",
       "         d3.select(\"div.myclass\").append(\"span\").text(\"from D3.js\");\n",
       "      </script>\n",
       "   </body>\n",
       "</html>\n"
      ],
      "text/plain": [
       "<IPython.core.display.HTML object>"
      ]
     },
     "metadata": {},
     "output_type": "display_data"
    }
   ],
   "source": [
    "%%html\n",
    "<!DOCTYPE html>\n",
    "<html>\n",
    "   <head>\n",
    "      <script type = \"text/javascript\" src = \"https://d3js.org/d3.v4.min.js\"></script>\n",
    "   </head>\n",
    "\n",
    "   <body>\n",
    "      <div class = \"myclass\">\n",
    "         Hello World!\n",
    "      </div>\n",
    "\n",
    "      <script>\n",
    "         d3.select(\"div.myclass\").append(\"span\").text(\"from D3.js\");\n",
    "      </script>\n",
    "   </body>\n",
    "</html>"
   ]
  },
  {
   "cell_type": "markdown",
   "metadata": {
    "id": "zj6SWy7ITDES"
   },
   "source": [
    "The text() method is used to set the content of the selected / appended elements.\n"
   ]
  },
  {
   "cell_type": "markdown",
   "metadata": {
    "id": "tT5E4_e4Txxk"
   },
   "source": [
    "**The html() Method**"
   ]
  },
  {
   "cell_type": "code",
   "execution_count": 9,
   "metadata": {
    "colab": {
     "base_uri": "https://localhost:8080/",
     "height": 34
    },
    "id": "B9qPJhcPTBaL",
    "outputId": "a164851a-f2de-4588-e604-6798500bb893"
   },
   "outputs": [
    {
     "data": {
      "text/html": [
       "<!DOCTYPE html>\n",
       "<html>\n",
       "   <head>\n",
       "      <script type = \"text/javascript\" src = \"https://d3js.org/d3.v4.min.js\"></script>\n",
       "   </head>\n",
       "\n",
       "   <body>\n",
       "      <div class = \"myclass\">\n",
       "         Hello World!\n",
       "      </div>\n",
       "\n",
       "      <script>\n",
       "         d3.select(\".myclass\").html(\"Hello World! <span>from D3.js</span>\");\n",
       "      </script>\n",
       "   </body>\n",
       "</html>\n"
      ],
      "text/plain": [
       "<IPython.core.display.HTML object>"
      ]
     },
     "metadata": {},
     "output_type": "display_data"
    }
   ],
   "source": [
    "%%html\n",
    "<!DOCTYPE html>\n",
    "<html>\n",
    "   <head>\n",
    "      <script type = \"text/javascript\" src = \"https://d3js.org/d3.v4.min.js\"></script>\n",
    "   </head>\n",
    "\n",
    "   <body>\n",
    "      <div class = \"myclass\">\n",
    "         Hello World!\n",
    "      </div>\n",
    "\n",
    "      <script>\n",
    "         d3.select(\".myclass\").html(\"Hello World! <span>from D3.js</span>\");\n",
    "      </script>\n",
    "   </body>\n",
    "</html>"
   ]
  },
  {
   "cell_type": "markdown",
   "metadata": {
    "id": "VqZAOvnoUCKK"
   },
   "source": [
    "The html() method is used to set the html content of the selected / appended elements."
   ]
  },
  {
   "cell_type": "markdown",
   "metadata": {
    "id": "U7AdR4NQUEJT"
   },
   "source": [
    "**The style() Method**"
   ]
  },
  {
   "cell_type": "code",
   "execution_count": 10,
   "metadata": {
    "colab": {
     "base_uri": "https://localhost:8080/",
     "height": 34
    },
    "id": "R540VdpfUDez",
    "outputId": "3a7359d0-ef89-4b0e-8d50-e6411d45ab49"
   },
   "outputs": [
    {
     "data": {
      "text/html": [
       "<!DOCTYPE html>\n",
       "<html>\n",
       "   <head>\n",
       "      <script type = \"text/javascript\" src = \"https://d3js.org/d3.v4.min.js\"></script>\n",
       "   </head>\n",
       "\n",
       "   <body>\n",
       "      <div class = \"myclass\">\n",
       "         Hello World!\n",
       "      </div>\n",
       "\n",
       "      <script>\n",
       "         d3.select(\".myclass\").style(\"color\", \"red\");\n",
       "      </script>\n",
       "   </body>\n",
       "</html>\n"
      ],
      "text/plain": [
       "<IPython.core.display.HTML object>"
      ]
     },
     "metadata": {},
     "output_type": "display_data"
    }
   ],
   "source": [
    "%%html\n",
    "<!DOCTYPE html>\n",
    "<html>\n",
    "   <head>\n",
    "      <script type = \"text/javascript\" src = \"https://d3js.org/d3.v4.min.js\"></script>\n",
    "   </head>\n",
    "\n",
    "   <body>\n",
    "      <div class = \"myclass\">\n",
    "         Hello World!\n",
    "      </div>\n",
    "\n",
    "      <script>\n",
    "         d3.select(\".myclass\").style(\"color\", \"red\");\n",
    "      </script>\n",
    "   </body>\n",
    "</html>"
   ]
  },
  {
   "cell_type": "markdown",
   "metadata": {
    "id": "3ect1F1yUR0b"
   },
   "source": [
    "The style() method is used to set the style property of the selected elements."
   ]
  },
  {
   "cell_type": "markdown",
   "metadata": {
    "id": "vPozQgdNUTbi"
   },
   "source": [
    "**The selectAll() Method**"
   ]
  },
  {
   "cell_type": "code",
   "execution_count": 11,
   "metadata": {
    "colab": {
     "base_uri": "https://localhost:8080/",
     "height": 82
    },
    "id": "OBHxB4o2USzT",
    "outputId": "a27655d7-6b22-40e0-8950-15394a0001be"
   },
   "outputs": [
    {
     "data": {
      "text/html": [
       "<!DOCTYPE html>\n",
       "<html>\n",
       "   <head>\n",
       "      <script type = \"text/javascript\" src = \"https://d3js.org/d3.v4.min.js\"></script>\n",
       "   </head>\n",
       "\n",
       "   <body>\n",
       "      <h2 class = \"myclass\">Message</h2>\n",
       "      <div class = \"myclass\">\n",
       "         Hello World!\n",
       "      </div>\n",
       "\n",
       "      <script>\n",
       "         d3.selectAll(\".myclass\").attr(\"style\", \"color: red\");\n",
       "      </script>\n",
       "   </body>\n",
       "</html>\n"
      ],
      "text/plain": [
       "<IPython.core.display.HTML object>"
      ]
     },
     "metadata": {},
     "output_type": "display_data"
    }
   ],
   "source": [
    "%%html\n",
    "<!DOCTYPE html>\n",
    "<html>\n",
    "   <head>\n",
    "      <script type = \"text/javascript\" src = \"https://d3js.org/d3.v4.min.js\"></script>\n",
    "   </head>\n",
    "\n",
    "   <body>\n",
    "      <h2 class = \"myclass\">Message</h2>\n",
    "      <div class = \"myclass\">\n",
    "         Hello World!\n",
    "      </div>\n",
    "\n",
    "      <script>\n",
    "         d3.selectAll(\".myclass\").attr(\"style\", \"color: red\");\n",
    "      </script>\n",
    "   </body>\n",
    "</html>"
   ]
  },
  {
   "cell_type": "markdown",
   "metadata": {
    "id": "Qdbi3V6gUh4A"
   },
   "source": [
    "The selectAll() method is used to select multiple elements in the HTML document."
   ]
  },
  {
   "cell_type": "markdown",
   "metadata": {
    "id": "vd9Ux6sMVQ_S"
   },
   "source": [
    "**Data Join**"
   ]
  },
  {
   "cell_type": "code",
   "execution_count": 12,
   "metadata": {
    "colab": {
     "base_uri": "https://localhost:8080/",
     "height": 117
    },
    "id": "NWsSr4CKVSrc",
    "outputId": "87e8292e-d684-4ccc-bfa0-7cf8b9e52440"
   },
   "outputs": [
    {
     "data": {
      "text/html": [
       "<!DOCTYPE html>\n",
       "<html>\n",
       "   <head>\n",
       "      <script type = \"text/javascript\" src = \"https://d3js.org/d3.v4.min.js\"></script>\n",
       "      <style>\n",
       "         body { font-family: Arial; }\n",
       "      </style>\n",
       "   </head>\n",
       "\n",
       "   <body>\n",
       "      <ul id = \"list\">\n",
       "         <li></li>\n",
       "         <li></li>\n",
       "      </ul>\n",
       "\n",
       "      <input type = \"button\" name = \"remove\" value = \"Remove fourth value\"\n",
       "         onclick = \"javascript:remove()\" />\n",
       "\n",
       "      <script>\n",
       "         d3.select(\"#list\").selectAll(\"li\")\n",
       "            .data([10, 20, 30, 25, 15])\n",
       "            .text(function(d)\n",
       "               { return \"This is pre-existing element and the value is \" + d; })\n",
       "            .enter()\n",
       "            .append(\"li\")\n",
       "            .text(function(d)\n",
       "               { return \"This is dynamically created element and the value is \" + d; });\n",
       "\n",
       "         function remove() {\n",
       "            d3.selectAll(\"li\")\n",
       "            .data([10, 20, 30, 15])\n",
       "            .exit()\n",
       "            .remove()\n",
       "         }\n",
       "      </script>\n",
       "   </body>\n",
       "</html>\n"
      ],
      "text/plain": [
       "<IPython.core.display.HTML object>"
      ]
     },
     "metadata": {},
     "output_type": "display_data"
    }
   ],
   "source": [
    "%%html\n",
    "<!DOCTYPE html>\n",
    "<html>\n",
    "   <head>\n",
    "      <script type = \"text/javascript\" src = \"https://d3js.org/d3.v4.min.js\"></script>\n",
    "      <style>\n",
    "         body { font-family: Arial; }\n",
    "      </style>\n",
    "   </head>\n",
    "\n",
    "   <body>\n",
    "      <ul id = \"list\">\n",
    "         <li></li>\n",
    "         <li></li>\n",
    "      </ul>\n",
    "\n",
    "      <input type = \"button\" name = \"remove\" value = \"Remove fourth value\"\n",
    "         onclick = \"javascript:remove()\" />\n",
    "\n",
    "      <script>\n",
    "         d3.select(\"#list\").selectAll(\"li\")\n",
    "            .data([10, 20, 30, 25, 15])\n",
    "            .text(function(d)\n",
    "               { return \"This is pre-existing element and the value is \" + d; })\n",
    "            .enter()\n",
    "            .append(\"li\")\n",
    "            .text(function(d)\n",
    "               { return \"This is dynamically created element and the value is \" + d; });\n",
    "\n",
    "         function remove() {\n",
    "            d3.selectAll(\"li\")\n",
    "            .data([10, 20, 30, 15])\n",
    "            .exit()\n",
    "            .remove()\n",
    "         }\n",
    "      </script>\n",
    "   </body>\n",
    "</html>"
   ]
  },
  {
   "cell_type": "markdown",
   "metadata": {
    "id": "8JgO6nN4V5nr"
   },
   "source": [
    "Data join enables us to inject, modify and remove elements (HTML element as well as embedded SVG elements) based on the data set in the existing HTML document.\n",
    "Here, we have removed the fourth item from the data set and its corresponding li using the exit() and the remove() methods."
   ]
  },
  {
   "cell_type": "markdown",
   "metadata": {
    "id": "7WShQzR2V6Vb"
   },
   "source": [
    "**Scalable Vector Graphics(SVG)**"
   ]
  },
  {
   "cell_type": "markdown",
   "metadata": {
    "id": "MWdmnJepW4U0"
   },
   "source": [
    "SVG is an XML-based vector graphics format. It provides options to draw different shapes such as Lines, Rectangles, Circles, Ellipses, etc. Hence, designing visualizations with SVG gives you more power and flexibility."
   ]
  },
  {
   "cell_type": "code",
   "execution_count": 13,
   "metadata": {
    "colab": {
     "base_uri": "https://localhost:8080/",
     "height": 321
    },
    "id": "6rhVCvgHWWuz",
    "outputId": "8c9d614a-f7c8-46c9-e3c4-b2bb89695a07"
   },
   "outputs": [
    {
     "data": {
      "text/html": [
       "<!DOCTYPE html>\n",
       "<html>\n",
       "   <head>\n",
       "      <script type = \"text/javascript\" src = \"https://d3js.org/d3.v4.min.js\"></script>\n",
       "      <style>\n",
       "         body { font-family: Arial; }\n",
       "      </style>\n",
       "   </head>\n",
       "\n",
       "   <body>\n",
       "      <div id = \"svgcontainer\">\n",
       "      </div>\n",
       "      <script language = \"javascript\">\n",
       "         var width = 300;\n",
       "         var height = 300;\n",
       "         var svg = d3.select(\"#svgcontainer\")\n",
       "            .append(\"svg\")\n",
       "            .attr(\"width\", width)\n",
       "            .attr(\"height\", height);\n",
       "         svg.append(\"line\")\n",
       "            .attr(\"x1\", 100)\n",
       "            .attr(\"y1\", 100)\n",
       "            .attr(\"x2\", 200)\n",
       "            .attr(\"y2\", 200)\n",
       "            .style(\"stroke\", \"rgb(255,0,0)\")\n",
       "            .style(\"stroke-width\", 2);\n",
       "      </script>\n",
       "   </body>\n",
       "</html>\n"
      ],
      "text/plain": [
       "<IPython.core.display.HTML object>"
      ]
     },
     "metadata": {},
     "output_type": "display_data"
    }
   ],
   "source": [
    "%%html\n",
    "<!DOCTYPE html>\n",
    "<html>\n",
    "   <head>\n",
    "      <script type = \"text/javascript\" src = \"https://d3js.org/d3.v4.min.js\"></script>\n",
    "      <style>\n",
    "         body { font-family: Arial; }\n",
    "      </style>\n",
    "   </head>\n",
    "\n",
    "   <body>\n",
    "      <div id = \"svgcontainer\">\n",
    "      </div>\n",
    "      <script language = \"javascript\">\n",
    "         var width = 300;\n",
    "         var height = 300;\n",
    "         var svg = d3.select(\"#svgcontainer\")\n",
    "            .append(\"svg\")\n",
    "            .attr(\"width\", width)\n",
    "            .attr(\"height\", height);\n",
    "         svg.append(\"line\")\n",
    "            .attr(\"x1\", 100)\n",
    "            .attr(\"y1\", 100)\n",
    "            .attr(\"x2\", 200)\n",
    "            .attr(\"y2\", 200)\n",
    "            .style(\"stroke\", \"rgb(255,0,0)\")\n",
    "            .style(\"stroke-width\", 2);\n",
    "      </script>\n",
    "   </body>\n",
    "</html>"
   ]
  },
  {
   "cell_type": "code",
   "execution_count": 14,
   "metadata": {
    "colab": {
     "base_uri": "https://localhost:8080/",
     "height": 321
    },
    "id": "lpR5wrm_W6jU",
    "outputId": "42a29c74-a66e-4fbd-8186-f3e848be8893"
   },
   "outputs": [
    {
     "data": {
      "text/html": [
       "<!DOCTYPE html>\n",
       "<html>\n",
       "   <head>\n",
       "      <script type = \"text/javascript\" src = \"https://d3js.org/d3.v4.min.js\"></script>\n",
       "   </head>\n",
       "\n",
       "   <body>\n",
       "      <div id = \"svgcontainer\"></div>\n",
       "      <script>\n",
       "         var width = 300;\n",
       "         var height = 300;\n",
       "         //Create SVG element\n",
       "         var svg = d3.select(\"#svgcontainer\")\n",
       "            .append(\"svg\")\n",
       "            .attr(\"width\", width)\n",
       "            .attr(\"height\", height);\n",
       "         //Create and append rectangle element\n",
       "         svg.append(\"rect\")\n",
       "            .attr(\"x\", 20)\n",
       "            .attr(\"y\", 20)\n",
       "            .attr(\"width\", 200)\n",
       "            .attr(\"height\", 100)\n",
       "            .attr(\"fill\", \"green\");\n",
       "      </script>\n",
       "   </body>\n",
       "</html>\n"
      ],
      "text/plain": [
       "<IPython.core.display.HTML object>"
      ]
     },
     "metadata": {},
     "output_type": "display_data"
    }
   ],
   "source": [
    "%%html\n",
    "<!DOCTYPE html>\n",
    "<html>\n",
    "   <head>\n",
    "      <script type = \"text/javascript\" src = \"https://d3js.org/d3.v4.min.js\"></script>\n",
    "   </head>\n",
    "\n",
    "   <body>\n",
    "      <div id = \"svgcontainer\"></div>\n",
    "      <script>\n",
    "         var width = 300;\n",
    "         var height = 300;\n",
    "         //Create SVG element\n",
    "         var svg = d3.select(\"#svgcontainer\")\n",
    "            .append(\"svg\")\n",
    "            .attr(\"width\", width)\n",
    "            .attr(\"height\", height);\n",
    "         //Create and append rectangle element\n",
    "         svg.append(\"rect\")\n",
    "            .attr(\"x\", 20)\n",
    "            .attr(\"y\", 20)\n",
    "            .attr(\"width\", 200)\n",
    "            .attr(\"height\", 100)\n",
    "            .attr(\"fill\", \"green\");\n",
    "      </script>\n",
    "   </body>\n",
    "</html>"
   ]
  },
  {
   "cell_type": "code",
   "execution_count": 15,
   "metadata": {
    "colab": {
     "base_uri": "https://localhost:8080/",
     "height": 321
    },
    "id": "0UnWogzBXBGE",
    "outputId": "35b96a72-73e6-461d-f0c7-f8e5f9d0ecea"
   },
   "outputs": [
    {
     "data": {
      "text/html": [
       "<html>\n",
       "   <head>\n",
       "      <script type = \"text/javascript\" src = \"https://d3js.org/d3.v4.min.js\"></script>\n",
       "   </head>\n",
       "\n",
       "   <body>\n",
       "      <div id = \"svgcontainer\"></div>\n",
       "      <script>\n",
       "         var width = 300;\n",
       "         var height = 300;\n",
       "         var svg = d3.select(\"#svgcontainer\")\n",
       "            .append(\"svg\")\n",
       "            .attr(\"width\", width)\n",
       "            .attr(\"height\", height);\n",
       "         svg.append(\"ellipse\")\n",
       "            .attr(\"cx\", 200)\n",
       "            .attr(\"cy\", 50)\n",
       "            .attr(\"rx\", 100)\n",
       "            .attr(\"ry\", 50)\n",
       "            .attr(\"fill\", \"green\")\n",
       "      </script>\n",
       "   </body>\n",
       "</html>\n"
      ],
      "text/plain": [
       "<IPython.core.display.HTML object>"
      ]
     },
     "metadata": {},
     "output_type": "display_data"
    }
   ],
   "source": [
    "%%html\n",
    "<html>\n",
    "   <head>\n",
    "      <script type = \"text/javascript\" src = \"https://d3js.org/d3.v4.min.js\"></script>\n",
    "   </head>\n",
    "\n",
    "   <body>\n",
    "      <div id = \"svgcontainer\"></div>\n",
    "      <script>\n",
    "         var width = 300;\n",
    "         var height = 300;\n",
    "         var svg = d3.select(\"#svgcontainer\")\n",
    "            .append(\"svg\")\n",
    "            .attr(\"width\", width)\n",
    "            .attr(\"height\", height);\n",
    "         svg.append(\"ellipse\")\n",
    "            .attr(\"cx\", 200)\n",
    "            .attr(\"cy\", 50)\n",
    "            .attr(\"rx\", 100)\n",
    "            .attr(\"ry\", 50)\n",
    "            .attr(\"fill\", \"green\")\n",
    "      </script>\n",
    "   </body>\n",
    "</html>"
   ]
  },
  {
   "cell_type": "markdown",
   "metadata": {
    "id": "BNxjVc55XRhd"
   },
   "source": [
    "**SVG Transformation**"
   ]
  },
  {
   "cell_type": "markdown",
   "metadata": {
    "id": "xlBRjmGCXTCr"
   },
   "source": [
    "SVG provides options to transform a single SVG shape element or group of SVG elements. SVG transform supports Translate, Scale, Rotate and Skew."
   ]
  },
  {
   "cell_type": "code",
   "execution_count": 16,
   "metadata": {
    "colab": {
     "base_uri": "https://localhost:8080/",
     "height": 321
    },
    "id": "d7MEpvdBXW-b",
    "outputId": "59c4dde8-dc46-47e0-c4d3-dffacae06728"
   },
   "outputs": [
    {
     "data": {
      "text/html": [
       "<html>\n",
       "   <head>\n",
       "      <script type = \"text/javascript\" src = \"https://d3js.org/d3.v4.min.js\"></script>\n",
       "   </head>\n",
       "\n",
       "   <body>\n",
       "      <svg width = \"300\" height = \"300\">\n",
       "         <rect x = \"20\"\n",
       "            y = \"20\"\n",
       "            width = \"60\"\n",
       "            height = \"60\"\n",
       "            fill = \"green\"\n",
       "            transform = \"translate(30 30)\">\n",
       "         </rect>\n",
       "      </svg>\n",
       "   </body>\n",
       "</html>\n"
      ],
      "text/plain": [
       "<IPython.core.display.HTML object>"
      ]
     },
     "metadata": {},
     "output_type": "display_data"
    }
   ],
   "source": [
    "%%html\n",
    "<html>\n",
    "   <head>\n",
    "      <script type = \"text/javascript\" src = \"https://d3js.org/d3.v4.min.js\"></script>\n",
    "   </head>\n",
    "\n",
    "   <body>\n",
    "      <svg width = \"300\" height = \"300\">\n",
    "         <rect x = \"20\"\n",
    "            y = \"20\"\n",
    "            width = \"60\"\n",
    "            height = \"60\"\n",
    "            fill = \"green\"\n",
    "            transform = \"translate(30 30)\">\n",
    "         </rect>\n",
    "      </svg>\n",
    "   </body>\n",
    "</html>"
   ]
  },
  {
   "cell_type": "markdown",
   "metadata": {
    "id": "7KFkx_kaXgYu"
   },
   "source": [
    "The above code is for SVG rectangle and the following code is for transforming rectangle"
   ]
  },
  {
   "cell_type": "code",
   "execution_count": 17,
   "metadata": {
    "colab": {
     "base_uri": "https://localhost:8080/",
     "height": 321
    },
    "id": "OI-JpKzuXwFG",
    "outputId": "7c789ad1-2afc-43f6-8f1f-dd1ad88f17fc"
   },
   "outputs": [
    {
     "data": {
      "text/html": [
       "<html>\n",
       "   <head>\n",
       "      <script type = \"text/javascript\" src = \"https://d3js.org/d3.v4.min.js\"></script>\n",
       "   </head>\n",
       "\n",
       "   <body>\n",
       "      <svg width = \"300\" height = \"300\">\n",
       "         <rect x = \"20\"\n",
       "            y = \"20\"\n",
       "            width = \"60\"\n",
       "            height = \"60\"\n",
       "            fill = \"green\"\n",
       "            transform = \"translate(60 60) rotate(45)\">\n",
       "         </rect>\n",
       "      </svg>\n",
       "   </body>\n",
       "</html>\n"
      ],
      "text/plain": [
       "<IPython.core.display.HTML object>"
      ]
     },
     "metadata": {},
     "output_type": "display_data"
    }
   ],
   "source": [
    "%%html\n",
    "<html>\n",
    "   <head>\n",
    "      <script type = \"text/javascript\" src = \"https://d3js.org/d3.v4.min.js\"></script>\n",
    "   </head>\n",
    "\n",
    "   <body>\n",
    "      <svg width = \"300\" height = \"300\">\n",
    "         <rect x = \"20\"\n",
    "            y = \"20\"\n",
    "            width = \"60\"\n",
    "            height = \"60\"\n",
    "            fill = \"green\"\n",
    "            transform = \"translate(60 60) rotate(45)\">\n",
    "         </rect>\n",
    "      </svg>\n",
    "   </body>\n",
    "</html>"
   ]
  },
  {
   "cell_type": "code",
   "execution_count": 18,
   "metadata": {
    "colab": {
     "base_uri": "https://localhost:8080/",
     "height": 321
    },
    "id": "RP8HLwRdYAi0",
    "outputId": "3d9a5f9f-193b-4a3c-dc3b-945791adc2a6"
   },
   "outputs": [
    {
     "data": {
      "text/html": [
       "<html>\n",
       "   <head>\n",
       "      <script type = \"text/javascript\" src = \"https://d3js.org/d3.v4.min.js\"></script>\n",
       "   </head>\n",
       "\n",
       "   <body>\n",
       "      <svg width = \"300\" height = \"300\">\n",
       "         <g transform = \"translate(60,60) rotate(60)\">\n",
       "            <rect x = \"50\"\n",
       "               y = \"20\"\n",
       "               width = \"60\"\n",
       "               height = \"40\"\n",
       "               fill = \"yellow\">\n",
       "            </rect>\n",
       "            <circle cx = \"0\"\n",
       "               cy = \"0\"\n",
       "               r = \"50\"\n",
       "               fill = \"black\"/>\n",
       "         </g>\n",
       "      </svg>\n",
       "   </body>\n",
       "</html>\n"
      ],
      "text/plain": [
       "<IPython.core.display.HTML object>"
      ]
     },
     "metadata": {},
     "output_type": "display_data"
    }
   ],
   "source": [
    "%%html\n",
    "<html>\n",
    "   <head>\n",
    "      <script type = \"text/javascript\" src = \"https://d3js.org/d3.v4.min.js\"></script>\n",
    "   </head>\n",
    "\n",
    "   <body>\n",
    "      <svg width = \"300\" height = \"300\">\n",
    "         <g transform = \"translate(60,60) rotate(60)\">\n",
    "            <rect x = \"50\"\n",
    "               y = \"20\"\n",
    "               width = \"60\"\n",
    "               height = \"40\"\n",
    "               fill = \"yellow\">\n",
    "            </rect>\n",
    "            <circle cx = \"0\"\n",
    "               cy = \"0\"\n",
    "               r = \"50\"\n",
    "               fill = \"black\"/>\n",
    "         </g>\n",
    "      </svg>\n",
    "   </body>\n",
    "</html>"
   ]
  },
  {
   "cell_type": "markdown",
   "metadata": {
    "id": "WDbs1Ne5YK62"
   },
   "source": [
    "This code add SVG circle and transforms rectangle and changes position of rectangle  "
   ]
  },
  {
   "cell_type": "markdown",
   "metadata": {
    "id": "NWiqkALRb9XV"
   },
   "source": [
    "**D3.js - Transition**"
   ]
  },
  {
   "cell_type": "code",
   "execution_count": 19,
   "metadata": {
    "colab": {
     "base_uri": "https://localhost:8080/",
     "height": 58
    },
    "id": "d8rih4SdbME8",
    "outputId": "3b4de1f8-4ce8-488b-ad10-541b1e4a7258"
   },
   "outputs": [
    {
     "data": {
      "text/html": [
       "<!DOCTYPE html>\n",
       "<html>\n",
       "   <head>\n",
       "      <script type = \"text/javascript\" src = \"https://d3js.org/d3.v4.min.js\"></script>\n",
       "   </head>\n",
       "\n",
       "   <body>\n",
       "      <h3>Simple transitions</h3>\n",
       "      <script>\n",
       "         d3.select(\"body\").transition().style(\"background-color\", \"lightblue\");\n",
       "      </script>\n",
       "   </body>\n",
       "</html>\n"
      ],
      "text/plain": [
       "<IPython.core.display.HTML object>"
      ]
     },
     "metadata": {},
     "output_type": "display_data"
    }
   ],
   "source": [
    "%%html\n",
    "<!DOCTYPE html>\n",
    "<html>\n",
    "   <head>\n",
    "      <script type = \"text/javascript\" src = \"https://d3js.org/d3.v4.min.js\"></script>\n",
    "   </head>\n",
    "\n",
    "   <body>\n",
    "      <h3>Simple transitions</h3>\n",
    "      <script>\n",
    "         d3.select(\"body\").transition().style(\"background-color\", \"lightblue\");\n",
    "      </script>\n",
    "   </body>\n",
    "</html>"
   ]
  },
  {
   "cell_type": "markdown",
   "metadata": {
    "id": "g6toECzPcDH3"
   },
   "source": [
    "Here, we have selected the body element and then started transition by calling the transition() method. Then, we have instructed to transit the background color from the current color, white to light blue."
   ]
  },
  {
   "cell_type": "code",
   "execution_count": 20,
   "metadata": {
    "colab": {
     "base_uri": "https://localhost:8080/",
     "height": 58
    },
    "id": "FstRAsXQcChd",
    "outputId": "5056387e-7481-43e4-d4a9-5221792f31cc"
   },
   "outputs": [
    {
     "data": {
      "text/html": [
       "<!DOCTYPE html>\n",
       "<html>\n",
       "   <head>\n",
       "      <script type = \"text/javascript\" src = \"https://d3js.org/d3.v4.min.js\"></script>\n",
       "   </head>\n",
       "\n",
       "   <body>\n",
       "      <h3>Simple transitions</h3>\n",
       "      <script>\n",
       "         d3.select(\"body\").transition().style(\"background-color\", \"lightblue\").duration(5000);\n",
       "\n",
       "      </script>\n",
       "   </body>\n",
       "</html>\n"
      ],
      "text/plain": [
       "<IPython.core.display.HTML object>"
      ]
     },
     "metadata": {},
     "output_type": "display_data"
    }
   ],
   "source": [
    "%%html\n",
    "<!DOCTYPE html>\n",
    "<html>\n",
    "   <head>\n",
    "      <script type = \"text/javascript\" src = \"https://d3js.org/d3.v4.min.js\"></script>\n",
    "   </head>\n",
    "\n",
    "   <body>\n",
    "      <h3>Simple transitions</h3>\n",
    "      <script>\n",
    "         d3.select(\"body\").transition().style(\"background-color\", \"lightblue\").duration(5000);\n",
    "\n",
    "      </script>\n",
    "   </body>\n",
    "</html>"
   ]
  },
  {
   "cell_type": "markdown",
   "metadata": {
    "id": "7hR5g2DmcpPt"
   },
   "source": [
    "**Animation**"
   ]
  },
  {
   "cell_type": "code",
   "execution_count": 21,
   "metadata": {
    "colab": {
     "base_uri": "https://localhost:8080/",
     "height": 549
    },
    "id": "nNtJJr8ucmgt",
    "outputId": "ea29a98c-074f-4502-eafe-c7f4b8c7d1b7"
   },
   "outputs": [
    {
     "data": {
      "text/html": [
       "<!DOCTYPE html>\n",
       "<html>\n",
       "   <head>\n",
       "      <script type = \"text/javascript\" src = \"https://d3js.org/d3.v4.min.js\"></script>\n",
       "   </head>\n",
       "\n",
       "   <body>\n",
       "    <span>\n",
       "      <h3> Hi this is Transition in D3.js </h3></span>\n",
       "      <script>\n",
       "\n",
       "         d3.selectAll(\"h3\").transition()\n",
       "            .style(\"font-size\",\"50px\")\n",
       "            .style(\"color\" ,'orange')\n",
       "            .style(\"text-decoration\",\"underline\")\n",
       "            .style(\"transform\",\"rotate(-45deg)\")\n",
       "            .delay(2000).duration(5000);\n",
       "      </script>\n",
       "   </body>\n",
       "</html>\n"
      ],
      "text/plain": [
       "<IPython.core.display.HTML object>"
      ]
     },
     "metadata": {},
     "output_type": "display_data"
    }
   ],
   "source": [
    "%%html\n",
    "<!DOCTYPE html>\n",
    "<html>\n",
    "   <head>\n",
    "      <script type = \"text/javascript\" src = \"https://d3js.org/d3.v4.min.js\"></script>\n",
    "   </head>\n",
    "\n",
    "   <body>\n",
    "    <span>\n",
    "      <h3> Hi this is Transition in D3.js </h3></span>\n",
    "      <script>\n",
    "\n",
    "         d3.selectAll(\"h3\").transition()\n",
    "            .style(\"font-size\",\"50px\")\n",
    "            .style(\"color\" ,'orange')\n",
    "            .style(\"text-decoration\",\"underline\")\n",
    "            .style(\"transform\",\"rotate(-45deg)\")\n",
    "            .delay(2000).duration(5000);\n",
    "      </script>\n",
    "   </body>\n",
    "</html>"
   ]
  },
  {
   "cell_type": "markdown",
   "metadata": {
    "id": "xKQdu5iYhxVH"
   },
   "source": [
    "D3.js supports animation through transition. We can do animation with proper use of transition. Transitions are a limited form of Key Frame Animation with only two key frames – start and end. The starting key frame is typically the current state of the DOM, and the ending key frame is a set of attributes, styles and other properties you specify. Transitions are well suited for transitioning to a new view without a complicated code that depends on the starting view."
   ]
  },
  {
   "cell_type": "code",
   "execution_count": null,
   "metadata": {
    "id": "3FH23O5Eee0S"
   },
   "outputs": [],
   "source": []
  }
 ],
 "metadata": {
  "colab": {
   "authorship_tag": "ABX9TyML/VZ9AP+EQtCSonfI6+4h",
   "include_colab_link": true,
   "provenance": []
  },
  "kernelspec": {
   "display_name": "Python 3 (ipykernel)",
   "language": "python",
   "name": "python3"
  },
  "language_info": {
   "codemirror_mode": {
    "name": "ipython",
    "version": 3
   },
   "file_extension": ".py",
   "mimetype": "text/x-python",
   "name": "python",
   "nbconvert_exporter": "python",
   "pygments_lexer": "ipython3",
   "version": "3.9.13"
  }
 },
 "nbformat": 4,
 "nbformat_minor": 1
}
