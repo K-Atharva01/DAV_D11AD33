{
 "cells": [
  {
   "cell_type": "markdown",
   "metadata": {
    "id": "8Y5FmFARAyUS"
   },
   "source": [
    "**EXPERIMENT 1**\n",
    "\n",
    "\n",
    "Python libraries:\n",
    "\n",
    "\n",
    "1.   Scipy\n",
    "2.   Numpy\n",
    "\n"
   ]
  },
  {
   "cell_type": "markdown",
   "metadata": {
    "id": "0IKn82sz7YiQ"
   },
   "source": [
    "**SciPy**\n",
    "\n",
    "\n",
    "SciPy is an open-source library in Python that is used for scientific and technical computing. It builds on NumPy, another popular Python library for numerical computing, and provides additional functionality for tasks such as optimization, signal and image processing, linear algebra, statistical analysis, and more.\n",
    "\n",
    "*Here are some key features of SciPy*:\n",
    "\n",
    "**Optimization**: The scipy.optimize module provides algorithms for solving optimization problems, including unconstrained and constrained minimization.\n",
    "\n",
    "**Integration and Differentiation**: SciPy offers tools for numerical integration (scipy.integrate) and differentiation (scipy.diff).\n",
    "\n",
    "**Signal and Image Processing**: The scipy.signal module contains functions for signal processing, including filtering, convolution, and spectral analysis. The scipy.ndimage module provides tools for image processing.\n",
    "\n",
    "\n",
    "\n",
    "\n",
    "\n",
    "\n",
    "\n",
    "\n"
   ]
  },
  {
   "cell_type": "code",
   "execution_count": 1,
   "metadata": {
    "colab": {
     "base_uri": "https://localhost:8080/"
    },
    "executionInfo": {
     "elapsed": 395,
     "status": "ok",
     "timestamp": 1705471221136,
     "user": {
      "displayName": "VAISHALI SEN",
      "userId": "15662330889275952365"
     },
     "user_tz": -330
    },
    "id": "9BZaI2sl-ewy",
    "outputId": "54c1cf5c-93f5-43b6-c2f1-e6c6e14fac38"
   },
   "outputs": [
    {
     "name": "stdout",
     "output_type": "stream",
     "text": [
      "Mean (statistics): 5.5\n",
      "Median: 5.5\n",
      "Standard Deviation: 3.0276503540974917\n"
     ]
    }
   ],
   "source": [
    "import scipy\n",
    "from scipy import stats\n",
    "import numpy as np\n",
    "import statistics\n",
    "\n",
    "data = [1, 2, 3, 4, 5, 6, 7, 8, 9, 10]\n",
    "\n",
    "\n",
    "mean_value_stats = statistics.mean(data)\n",
    "print(f\"Mean (statistics): {mean_value_stats}\")\n",
    "\n",
    "median_value = statistics.median(data)\n",
    "print(f\"Median: {median_value}\")\n",
    "\n",
    "deviation = statistics.stdev(data)\n",
    "print(f\"Standard Deviation: {deviation}\")"
   ]
  },
  {
   "cell_type": "markdown",
   "metadata": {
    "id": "BYQ2DQJ8-u2i"
   },
   "source": [
    "**Numpy**\n",
    "\n",
    "NumPy is a Python library used for working with arrays.It is a fundamental library for numerical computing in python.\n",
    "\n",
    " **Applications:**\n",
    "\n",
    "*Data Analysis and Manipulation:*\n",
    "NumPy arrays are the foundation for many other data analysis libraries, such as Pandas and scikit-learn.\n",
    "NumPy enables efficient and vectorized operations on large datasets, improving performance over traditional Python lists.\n",
    "\n",
    "*Machine Learning:*\n",
    "Many machine learning frameworks, including TensorFlow and PyTorch, rely on NumPy for array manipulation.\n",
    "NumPy arrays are used to represent input data, parameters, and outputs in machine learning models.\n"
   ]
  },
  {
   "cell_type": "code",
   "execution_count": 2,
   "metadata": {
    "colab": {
     "base_uri": "https://localhost:8080/"
    },
    "executionInfo": {
     "elapsed": 347,
     "status": "ok",
     "timestamp": 1705471442110,
     "user": {
      "displayName": "VAISHALI SEN",
      "userId": "15662330889275952365"
     },
     "user_tz": -330
    },
    "id": "rnKiTfnGAA17",
    "outputId": "d2e5690a-efe0-4aae-88d0-0ba905b090b5"
   },
   "outputs": [
    {
     "name": "stdout",
     "output_type": "stream",
     "text": [
      "[array([1, 2]), array([3, 4]), array([5, 6])]\n"
     ]
    }
   ],
   "source": [
    "import numpy as np\n",
    "arr = np.array([1, 2, 3, 4, 5, 6])\n",
    "\n",
    "newarr = np.array_split(arr, 3)\n",
    "\n",
    "print(newarr)\n"
   ]
  },
  {
   "cell_type": "markdown",
   "metadata": {
    "id": "DvHYskABBhyj"
   },
   "source": [
    "**R libraries:**\n",
    "\n",
    "\n",
    "1.   dplyr\n",
    "2.   tidyr\n",
    "\n"
   ]
  },
  {
   "cell_type": "markdown",
   "metadata": {
    "id": "gbaHPz_tCAbK"
   },
   "source": [
    "**dplyr**\n",
    "\n",
    "The package \"dplyr\" comprises many functions that perform mostly used data manipulation operations such as applying filter, selecting specific columns, sorting data, adding or deleting columns and aggregating data. Another most important advantage of this package is that it's very easy to learn and use dplyr functions. Also easy to recall these functions.\n",
    "\n",
    " *For example, filter() is used to filter rows.*\n"
   ]
  },
  {
   "cell_type": "code",
   "execution_count": 1,
   "metadata": {
    "colab": {
     "base_uri": "https://localhost:8080/"
    },
    "executionInfo": {
     "elapsed": 12999,
     "status": "ok",
     "timestamp": 1705471914762,
     "user": {
      "displayName": "VAISHALI SEN",
      "userId": "15662330889275952365"
     },
     "user_tz": -330
    },
    "id": "ee27bnaoCivK",
    "outputId": "776f7844-9fab-49b5-9f94-0809594c6263"
   },
   "outputs": [
    {
     "name": "stderr",
     "output_type": "stream",
     "text": [
      "Installing package into 'C:/Users/ATHARVA/AppData/Local/R/win-library/4.3'\n",
      "(as 'lib' is unspecified)\n",
      "\n"
     ]
    },
    {
     "name": "stdout",
     "output_type": "stream",
     "text": [
      "package 'dplyr' successfully unpacked and MD5 sums checked\n"
     ]
    },
    {
     "name": "stderr",
     "output_type": "stream",
     "text": [
      "Warning message:\n",
      "\"cannot remove prior installation of package 'dplyr'\"\n",
      "Warning message in file.copy(savedcopy, lib, recursive = TRUE):\n",
      "\"problem copying C:\\Users\\ATHARVA\\AppData\\Local\\R\\win-library\\4.3\\00LOCK\\dplyr\\libs\\x64\\dplyr.dll to C:\\Users\\ATHARVA\\AppData\\Local\\R\\win-library\\4.3\\dplyr\\libs\\x64\\dplyr.dll: Permission denied\"\n",
      "Warning message:\n",
      "\"restored 'dplyr'\"\n"
     ]
    },
    {
     "name": "stdout",
     "output_type": "stream",
     "text": [
      "\n",
      "The downloaded binary packages are in\n",
      "\tC:\\Users\\ATHARVA\\AppData\\Local\\Temp\\RtmpYTWTQ8\\downloaded_packages\n"
     ]
    }
   ],
   "source": [
    "install.packages(\"dplyr\")"
   ]
  },
  {
   "cell_type": "code",
   "execution_count": 2,
   "metadata": {
    "colab": {
     "base_uri": "https://localhost:8080/"
    },
    "executionInfo": {
     "elapsed": 366,
     "status": "ok",
     "timestamp": 1705471958045,
     "user": {
      "displayName": "VAISHALI SEN",
      "userId": "15662330889275952365"
     },
     "user_tz": -330
    },
    "id": "f4CDivRaDDxD",
    "outputId": "d259763c-085f-49fd-ea57-10341b4fccea"
   },
   "outputs": [
    {
     "name": "stderr",
     "output_type": "stream",
     "text": [
      "\n",
      "Attaching package: 'dplyr'\n",
      "\n",
      "\n",
      "The following objects are masked from 'package:stats':\n",
      "\n",
      "    filter, lag\n",
      "\n",
      "\n",
      "The following objects are masked from 'package:base':\n",
      "\n",
      "    intersect, setdiff, setequal, union\n",
      "\n",
      "\n"
     ]
    }
   ],
   "source": [
    "library(dplyr)\n"
   ]
  },
  {
   "cell_type": "code",
   "execution_count": 3,
   "metadata": {
    "executionInfo": {
     "elapsed": 399,
     "status": "ok",
     "timestamp": 1705472201787,
     "user": {
      "displayName": "VAISHALI SEN",
      "userId": "15662330889275952365"
     },
     "user_tz": -330
    },
    "id": "bBOmvFXCDRj8"
   },
   "outputs": [],
   "source": [
    "mydata = read.csv(\"https://raw.githubusercontent.com/deepanshu88/data/master/sampledata.csv\")"
   ]
  },
  {
   "cell_type": "code",
   "execution_count": 4,
   "metadata": {
    "colab": {
     "base_uri": "https://localhost:8080/",
     "height": 192
    },
    "executionInfo": {
     "elapsed": 404,
     "status": "ok",
     "timestamp": 1705472232382,
     "user": {
      "displayName": "VAISHALI SEN",
      "userId": "15662330889275952365"
     },
     "user_tz": -330
    },
    "id": "iCNWbJOrEKgy",
    "outputId": "b6a26e6d-b8ad-40f8-e8b3-9cdad8b10345"
   },
   "outputs": [
    {
     "data": {
      "text/html": [
       "<table class=\"dataframe\">\n",
       "<caption>A data.frame: 3 × 16</caption>\n",
       "<thead>\n",
       "\t<tr><th scope=col>Index</th><th scope=col>State</th><th scope=col>Y2002</th><th scope=col>Y2003</th><th scope=col>Y2004</th><th scope=col>Y2005</th><th scope=col>Y2006</th><th scope=col>Y2007</th><th scope=col>Y2008</th><th scope=col>Y2009</th><th scope=col>Y2010</th><th scope=col>Y2011</th><th scope=col>Y2012</th><th scope=col>Y2013</th><th scope=col>Y2014</th><th scope=col>Y2015</th></tr>\n",
       "\t<tr><th scope=col>&lt;chr&gt;</th><th scope=col>&lt;chr&gt;</th><th scope=col>&lt;int&gt;</th><th scope=col>&lt;int&gt;</th><th scope=col>&lt;int&gt;</th><th scope=col>&lt;int&gt;</th><th scope=col>&lt;int&gt;</th><th scope=col>&lt;int&gt;</th><th scope=col>&lt;int&gt;</th><th scope=col>&lt;int&gt;</th><th scope=col>&lt;int&gt;</th><th scope=col>&lt;int&gt;</th><th scope=col>&lt;int&gt;</th><th scope=col>&lt;int&gt;</th><th scope=col>&lt;int&gt;</th><th scope=col>&lt;int&gt;</th></tr>\n",
       "</thead>\n",
       "<tbody>\n",
       "\t<tr><td>N</td><td>North Dakota</td><td>1618807</td><td>1510193</td><td>1876940</td><td>1443172</td><td>1425030</td><td>1868788</td><td>1720352</td><td>1671468</td><td>1534571</td><td>1271132</td><td>1430978</td><td>1529024</td><td>1563898</td><td>1604118</td></tr>\n",
       "\t<tr><td>V</td><td>Virginia    </td><td>1134317</td><td>1163996</td><td>1891068</td><td>1853855</td><td>1708715</td><td>1197698</td><td>1803330</td><td>1590043</td><td>1516758</td><td>1171686</td><td>1262342</td><td>1647032</td><td>1706707</td><td>1850394</td></tr>\n",
       "\t<tr><td>W</td><td>Washington  </td><td>1977749</td><td>1687136</td><td>1199490</td><td>1163092</td><td>1334864</td><td>1621989</td><td>1545621</td><td>1555554</td><td>1179331</td><td>1150089</td><td>1775787</td><td>1273834</td><td>1387428</td><td>1377341</td></tr>\n",
       "</tbody>\n",
       "</table>\n"
      ],
      "text/latex": [
       "A data.frame: 3 × 16\n",
       "\\begin{tabular}{llllllllllllllll}\n",
       " Index & State & Y2002 & Y2003 & Y2004 & Y2005 & Y2006 & Y2007 & Y2008 & Y2009 & Y2010 & Y2011 & Y2012 & Y2013 & Y2014 & Y2015\\\\\n",
       " <chr> & <chr> & <int> & <int> & <int> & <int> & <int> & <int> & <int> & <int> & <int> & <int> & <int> & <int> & <int> & <int>\\\\\n",
       "\\hline\n",
       "\t N & North Dakota & 1618807 & 1510193 & 1876940 & 1443172 & 1425030 & 1868788 & 1720352 & 1671468 & 1534571 & 1271132 & 1430978 & 1529024 & 1563898 & 1604118\\\\\n",
       "\t V & Virginia     & 1134317 & 1163996 & 1891068 & 1853855 & 1708715 & 1197698 & 1803330 & 1590043 & 1516758 & 1171686 & 1262342 & 1647032 & 1706707 & 1850394\\\\\n",
       "\t W & Washington   & 1977749 & 1687136 & 1199490 & 1163092 & 1334864 & 1621989 & 1545621 & 1555554 & 1179331 & 1150089 & 1775787 & 1273834 & 1387428 & 1377341\\\\\n",
       "\\end{tabular}\n"
      ],
      "text/markdown": [
       "\n",
       "A data.frame: 3 × 16\n",
       "\n",
       "| Index &lt;chr&gt; | State &lt;chr&gt; | Y2002 &lt;int&gt; | Y2003 &lt;int&gt; | Y2004 &lt;int&gt; | Y2005 &lt;int&gt; | Y2006 &lt;int&gt; | Y2007 &lt;int&gt; | Y2008 &lt;int&gt; | Y2009 &lt;int&gt; | Y2010 &lt;int&gt; | Y2011 &lt;int&gt; | Y2012 &lt;int&gt; | Y2013 &lt;int&gt; | Y2014 &lt;int&gt; | Y2015 &lt;int&gt; |\n",
       "|---|---|---|---|---|---|---|---|---|---|---|---|---|---|---|---|\n",
       "| N | North Dakota | 1618807 | 1510193 | 1876940 | 1443172 | 1425030 | 1868788 | 1720352 | 1671468 | 1534571 | 1271132 | 1430978 | 1529024 | 1563898 | 1604118 |\n",
       "| V | Virginia     | 1134317 | 1163996 | 1891068 | 1853855 | 1708715 | 1197698 | 1803330 | 1590043 | 1516758 | 1171686 | 1262342 | 1647032 | 1706707 | 1850394 |\n",
       "| W | Washington   | 1977749 | 1687136 | 1199490 | 1163092 | 1334864 | 1621989 | 1545621 | 1555554 | 1179331 | 1150089 | 1775787 | 1273834 | 1387428 | 1377341 |\n",
       "\n"
      ],
      "text/plain": [
       "  Index State        Y2002   Y2003   Y2004   Y2005   Y2006   Y2007   Y2008  \n",
       "1 N     North Dakota 1618807 1510193 1876940 1443172 1425030 1868788 1720352\n",
       "2 V     Virginia     1134317 1163996 1891068 1853855 1708715 1197698 1803330\n",
       "3 W     Washington   1977749 1687136 1199490 1163092 1334864 1621989 1545621\n",
       "  Y2009   Y2010   Y2011   Y2012   Y2013   Y2014   Y2015  \n",
       "1 1671468 1534571 1271132 1430978 1529024 1563898 1604118\n",
       "2 1590043 1516758 1171686 1262342 1647032 1706707 1850394\n",
       "3 1555554 1179331 1150089 1775787 1273834 1387428 1377341"
      ]
     },
     "metadata": {},
     "output_type": "display_data"
    }
   ],
   "source": [
    "sample_n(mydata,3)"
   ]
  },
  {
   "cell_type": "markdown",
   "metadata": {
    "id": "axr4ArIZEeVa"
   },
   "source": [
    "**tidyr**\n",
    "\n",
    "\n",
    "The goal of tidyr is to help you create tidy data.\n",
    "\n",
    " Tidy data is data where:\n",
    "\n",
    "Every column is a variable.\n",
    "\n",
    "Every row is an observation.\n",
    "\n",
    "Every cell is a single value.:"
   ]
  },
  {
   "cell_type": "code",
   "execution_count": 5,
   "metadata": {
    "colab": {
     "base_uri": "https://localhost:8080/"
    },
    "executionInfo": {
     "elapsed": 4124,
     "status": "ok",
     "timestamp": 1705472441532,
     "user": {
      "displayName": "VAISHALI SEN",
      "userId": "15662330889275952365"
     },
     "user_tz": -330
    },
    "id": "nLc09bsEE3YL",
    "outputId": "687ca8cb-b01d-4c1a-b36d-49de64ab5271"
   },
   "outputs": [
    {
     "name": "stderr",
     "output_type": "stream",
     "text": [
      "Installing package into 'C:/Users/ATHARVA/AppData/Local/R/win-library/4.3'\n",
      "(as 'lib' is unspecified)\n",
      "\n",
      "also installing the dependencies 'DBI', 'gargle', 'cellranger', 'ids', 'timechange', 'vroom', 'tzdb', 'progress', 'selectr', 'broom', 'conflicted', 'dbplyr', 'dtplyr', 'forcats', 'ggplot2', 'googledrive', 'googlesheets4', 'haven', 'hms', 'lubridate', 'modelr', 'readr', 'readxl', 'reprex', 'rvest', 'tidyr'\n",
      "\n",
      "\n"
     ]
    },
    {
     "name": "stdout",
     "output_type": "stream",
     "text": [
      "\n",
      "  There is a binary version available but the source version is later:\n",
      "    binary source needs_compilation\n",
      "DBI  1.2.0  1.2.1             FALSE\n",
      "\n",
      "package 'gargle' successfully unpacked and MD5 sums checked\n",
      "package 'cellranger' successfully unpacked and MD5 sums checked\n",
      "package 'ids' successfully unpacked and MD5 sums checked\n",
      "package 'timechange' successfully unpacked and MD5 sums checked\n",
      "package 'vroom' successfully unpacked and MD5 sums checked\n",
      "package 'tzdb' successfully unpacked and MD5 sums checked\n",
      "package 'progress' successfully unpacked and MD5 sums checked\n",
      "package 'selectr' successfully unpacked and MD5 sums checked\n",
      "package 'broom' successfully unpacked and MD5 sums checked\n",
      "package 'conflicted' successfully unpacked and MD5 sums checked\n",
      "package 'dbplyr' successfully unpacked and MD5 sums checked\n",
      "package 'dtplyr' successfully unpacked and MD5 sums checked\n",
      "package 'forcats' successfully unpacked and MD5 sums checked\n",
      "package 'ggplot2' successfully unpacked and MD5 sums checked\n",
      "package 'googledrive' successfully unpacked and MD5 sums checked\n",
      "package 'googlesheets4' successfully unpacked and MD5 sums checked\n",
      "package 'haven' successfully unpacked and MD5 sums checked\n",
      "package 'hms' successfully unpacked and MD5 sums checked\n",
      "package 'lubridate' successfully unpacked and MD5 sums checked\n",
      "package 'modelr' successfully unpacked and MD5 sums checked\n",
      "package 'readr' successfully unpacked and MD5 sums checked\n",
      "package 'readxl' successfully unpacked and MD5 sums checked\n",
      "package 'reprex' successfully unpacked and MD5 sums checked\n",
      "package 'rvest' successfully unpacked and MD5 sums checked\n",
      "package 'tidyr' successfully unpacked and MD5 sums checked\n",
      "package 'tidyverse' successfully unpacked and MD5 sums checked\n",
      "\n",
      "The downloaded binary packages are in\n",
      "\tC:\\Users\\ATHARVA\\AppData\\Local\\Temp\\RtmpYTWTQ8\\downloaded_packages\n"
     ]
    },
    {
     "name": "stderr",
     "output_type": "stream",
     "text": [
      "installing the source package 'DBI'\n",
      "\n",
      "\n"
     ]
    }
   ],
   "source": [
    "install.packages(\"tidyverse\")"
   ]
  },
  {
   "cell_type": "code",
   "execution_count": 6,
   "metadata": {
    "executionInfo": {
     "elapsed": 377,
     "status": "ok",
     "timestamp": 1705472458973,
     "user": {
      "displayName": "VAISHALI SEN",
      "userId": "15662330889275952365"
     },
     "user_tz": -330
    },
    "id": "6vrmBAelFF79"
   },
   "outputs": [],
   "source": [
    "library(tidyr)"
   ]
  },
  {
   "cell_type": "code",
   "execution_count": 9,
   "metadata": {
    "colab": {
     "base_uri": "https://localhost:8080/"
    },
    "executionInfo": {
     "elapsed": 385,
     "status": "ok",
     "timestamp": 1705472814164,
     "user": {
      "displayName": "VAISHALI SEN",
      "userId": "15662330889275952365"
     },
     "user_tz": -330
    },
    "id": "NhDuJy6JGbJs",
    "outputId": "b1d70ec0-2782-4346-ef8a-56686acd41cd"
   },
   "outputs": [
    {
     "name": "stdout",
     "output_type": "stream",
     "text": [
      "[1] \"Original data:\"\n",
      "  ID Jan Feb Mar\n",
      "1  1  10  12  14\n",
      "2  2  15  18  20\n",
      "3  3  20  22  25\n",
      "[1] \"\\nReshaped data using gather:\"\n",
      "  ID Month Value\n",
      "1  1   Jan    10\n",
      "2  2   Jan    15\n",
      "3  3   Jan    20\n",
      "4  1   Feb    12\n",
      "5  2   Feb    18\n",
      "6  3   Feb    22\n",
      "7  1   Mar    14\n",
      "8  2   Mar    20\n",
      "9  3   Mar    25\n",
      "[1] \"\\nReshaped data using spread:\"\n",
      "  ID Feb Jan Mar\n",
      "1  1  12  10  14\n",
      "2  2  18  15  20\n",
      "3  3  22  20  25\n"
     ]
    }
   ],
   "source": [
    "data <- data.frame(\n",
    "  ID = c(1, 2, 3),\n",
    "  Jan = c(10, 15, 20),\n",
    "  Feb = c(12, 18, 22),\n",
    "  Mar = c(14, 20, 25)\n",
    ")\n",
    "\n",
    "\n",
    "print(\"Original data:\")\n",
    "print(data)\n",
    "\n",
    "# Reshape data using gather(vertical)\n",
    "gathered_data <- gather(data, key = \"Month\", value = \"Value\", -ID)\n",
    "print(\"\\nReshaped data using gather:\")\n",
    "print(gathered_data)\n",
    "\n",
    "# Reshape data using spread(horizontal)\n",
    "spread_data <- spread(gathered_data, key = \"Month\", value = \"Value\")\n",
    "print(\"\\nReshaped data using spread:\")\n",
    "print(spread_data)"
   ]
  },
  {
   "cell_type": "code",
   "execution_count": null,
   "metadata": {},
   "outputs": [],
   "source": []
  }
 ],
 "metadata": {
  "colab": {
   "authorship_tag": "ABX9TyO/hqsSBvCMReL1yw8pEPDh",
   "provenance": []
  },
  "kernelspec": {
   "display_name": "R",
   "language": "R",
   "name": "ir"
  },
  "language_info": {
   "codemirror_mode": "r",
   "file_extension": ".r",
   "mimetype": "text/x-r-source",
   "name": "R",
   "pygments_lexer": "r",
   "version": "4.3.2"
  }
 },
 "nbformat": 4,
 "nbformat_minor": 1
}
